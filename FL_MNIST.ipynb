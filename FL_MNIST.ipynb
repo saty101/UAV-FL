{
 "cells": [
  {
   "cell_type": "code",
   "execution_count": null,
   "metadata": {
    "colab": {
     "base_uri": "https://localhost:8080/"
    },
    "id": "5DMFNfZwmeIX",
    "outputId": "7446fd4f-ccfb-43a3-e2e7-474bb60756ae"
   },
   "outputs": [
    {
     "name": "stdout",
     "output_type": "stream",
     "text": [
      "Mounted at /gdrive\n"
     ]
    }
   ],
   "source": [
    "from google.colab import drive\n",
    "drive.mount(\"/gdrive\")"
   ]
  },
  {
   "cell_type": "code",
   "execution_count": null,
   "metadata": {
    "id": "xnjtmU4EmdLs"
   },
   "outputs": [],
   "source": [
    "zip_path = \"/gdrive/MyDrive/Colab_data/FL_MNIST/fl_mnist.zip\"\n",
    "!cp -R {zip_path} ."
   ]
  },
  {
   "cell_type": "code",
   "execution_count": null,
   "metadata": {
    "id": "38nWrR9gm4JV"
   },
   "outputs": [],
   "source": [
    "!unzip fl_mnist.zip"
   ]
  },
  {
   "cell_type": "code",
   "execution_count": null,
   "metadata": {
    "id": "iGEdN2ezfXBa"
   },
   "outputs": [],
   "source": [
    "import numpy as np\n",
    "import pandas as pd\n",
    "import random\n",
    "import cv2\n",
    "import os\n",
    "from tqdm import tqdm\n",
    "\n",
    "from sklearn.model_selection import train_test_split\n",
    "from sklearn.preprocessing import LabelBinarizer\n",
    "from sklearn.model_selection import train_test_split\n",
    "from sklearn.utils import shuffle\n",
    "from sklearn.metrics import accuracy_score\n",
    "\n",
    "import tensorflow as tf\n",
    "from tensorflow import expand_dims\n",
    "from tensorflow.keras.models import Sequential\n",
    "from tensorflow.keras.layers import Conv2D, Input, Lambda\n",
    "from tensorflow.keras.layers import MaxPooling2D\n",
    "from tensorflow.keras.layers import Activation\n",
    "from tensorflow.keras.layers import Flatten\n",
    "from tensorflow.keras.layers import Dense\n",
    "from tensorflow.keras.optimizers import SGD\n",
    "from tensorflow.keras import backend as K"
   ]
  },
  {
   "cell_type": "code",
   "execution_count": null,
   "metadata": {
    "id": "8NRPnZFwmNTY"
   },
   "outputs": [],
   "source": [
    "!pip install imutils -q\n",
    "from imutils import paths"
   ]
  },
  {
   "cell_type": "code",
   "execution_count": null,
   "metadata": {
    "id": "uuUtiYUGmPUn"
   },
   "outputs": [],
   "source": [
    "debug = 0"
   ]
  },
  {
   "cell_type": "code",
   "execution_count": null,
   "metadata": {
    "id": "tOyEmVJQmQ7M"
   },
   "outputs": [],
   "source": [
    "def load(paths, verbose=-1):\n",
    "    '''expects images for each class in seperate dir, \n",
    "    e.g all digits in 0 class in the directory named 0 '''\n",
    "    data = list()\n",
    "    labels = list()\n",
    "    # loop over the input images\n",
    "    for (i, imgpath) in enumerate(paths):\n",
    "        # load the image and extract the class labels        \n",
    "        im_gray = cv2.imread(imgpath , cv2.IMREAD_GRAYSCALE)\n",
    "        image = np.array(im_gray).flatten() # cv2.imread(imgpath) \n",
    "        # print(image.shape)\n",
    "        label = imgpath.split(os.path.sep)[-2]\n",
    "        # scale the image to [0, 1] and add to list\n",
    "        data.append(image/255)\n",
    "        labels.append(label)\n",
    "        # show an update every `verbose` images\n",
    "        if verbose > 0 and i > 0 and (i + 1) % verbose == 0:\n",
    "            print(\"[INFO] processed {}/{}\".format(i + 1, len(paths)))\n",
    "    # return a tuple of the data and labels\n",
    "    \n",
    "    return data, labels\n",
    "\n",
    "def create_clients(image_list, label_list, num_clients=100, initial='clients'):\n",
    "    ''' return: a dictionary with keys clients' names and value as \n",
    "                data shards - tuple of images and label lists.\n",
    "        args: \n",
    "            image_list: a list of numpy arrays of training images\n",
    "            label_list:a list of binarized labels for each image\n",
    "            num_client: number of fedrated members (clients)\n",
    "            initials: the clients'name prefix, e.g, clients_1 \n",
    "            \n",
    "    '''\n",
    "\n",
    "    #create a list of client names\n",
    "    client_names = ['{}_{}'.format(initial, i+1) for i in range(num_clients)]\n",
    "\n",
    "    #randomize the data\n",
    "    data = list(zip(image_list, label_list))\n",
    "    random.shuffle(data)  # <- IID\n",
    "    \n",
    "    # sort data for non-iid\n",
    "#     max_y = np.argmax(label_list, axis=-1)\n",
    "#     sorted_zip = sorted(zip(max_y, label_list, image_list), key=lambda x: x[0])\n",
    "#     data = [(x,y) for _,y,x in sorted_zip]\n",
    "\n",
    "    #shard data and place at each client\n",
    "    size = len(data)//num_clients\n",
    "    shards = [data[i:i + size] for i in range(0, size*num_clients, size)]\n",
    "\n",
    "    #number of clients must equal number of shards\n",
    "    assert(len(shards) == len(client_names))\n",
    "\n",
    "    return {client_names[i] : shards[i] for i in range(len(client_names))} \n",
    "\n",
    "\n",
    "def batch_data(data_shard, bs=32):\n",
    "    '''Takes in a clients data shard and create a tfds object off it\n",
    "    args:\n",
    "        shard: a data, label constituting a client's data shard\n",
    "        bs:batch size\n",
    "    return:\n",
    "        tfds object'''\n",
    "    #seperate shard into data and labels lists\n",
    "    data, label = zip(*data_shard)\n",
    "    dataset = tf.data.Dataset.from_tensor_slices((list(data), list(label)))\n",
    "    return dataset.shuffle(len(label)).batch(bs)\n",
    "\n",
    "\n",
    "def weight_scalling_factor(clients_trn_data, client_name):\n",
    "    client_names = list(clients_trn_data.keys())\n",
    "    #get the bs\n",
    "    bs = list(clients_trn_data[client_name])[0][0].shape[0]\n",
    "    #first calculate the total training data points across clinets\n",
    "    global_count = sum([tf.data.experimental.cardinality(clients_trn_data[client_name]).numpy() for client_name in client_names])*bs\n",
    "    # get the total number of data points held by a client\n",
    "    local_count = tf.data.experimental.cardinality(clients_trn_data[client_name]).numpy()*bs\n",
    "    \n",
    "    \n",
    "    if debug:\n",
    "        print('global_count', global_count, 'local_count', local_count, 'bs', bs)\n",
    "    \n",
    "    return local_count/global_count\n",
    "\n",
    "\n",
    "def scale_model_weights(weight, scalar):\n",
    "    '''function for scaling a models weights'''\n",
    "    weight_final = []\n",
    "    steps = len(weight)\n",
    "    for i in range(steps):\n",
    "        weight_final.append(scalar * weight[i])\n",
    "    return weight_final\n",
    "\n",
    "\n",
    "\n",
    "def sum_scaled_weights(scaled_weight_list):\n",
    "    '''Return the sum of the listed scaled weights. The is equivalent to scaled avg of the weights'''\n",
    "    avg_grad = list()\n",
    "    #get the average grad accross all client gradients\n",
    "    for grad_list_tuple in zip(*scaled_weight_list):\n",
    "        layer_mean = tf.math.reduce_sum(grad_list_tuple, axis=0)\n",
    "        avg_grad.append(layer_mean)\n",
    "        \n",
    "    return avg_grad\n",
    "\n",
    "\n",
    "def test_model(X_test, Y_test,  model, comm_round):\n",
    "    cce = tf.keras.losses.CategoricalCrossentropy(from_logits=True)\n",
    "    #logits = model.predict(X_test, batch_size=100)\n",
    "    logits = model.predict(X_test)\n",
    "    loss = cce(Y_test, logits)\n",
    "    acc = accuracy_score(tf.argmax(logits, axis=1), tf.argmax(Y_test, axis=1))\n",
    "    print('comm_round: {} | global_acc: {:.3%} | global_loss: {}'.format(comm_round, acc, loss))\n",
    "    return acc, loss\n"
   ]
  },
  {
   "cell_type": "code",
   "execution_count": null,
   "metadata": {
    "id": "zTtd8PnwmSU1"
   },
   "outputs": [],
   "source": [
    "class SimpleMLP:\n",
    "    @staticmethod\n",
    "    def build(shape, classes):\n",
    "        model = Sequential()\n",
    "        model.add(Dense(200, input_shape=(shape,)))\n",
    "        model.add(Activation(\"relu\"))\n",
    "        model.add(Dense(200))\n",
    "        model.add(Activation(\"relu\"))\n",
    "        model.add(Dense(classes))\n",
    "        model.add(Activation(\"softmax\"))\n",
    "        return model\n",
    "    \n",
    "#     def build(shape, classes):\n",
    "#         model = Sequential()\n",
    "#         model.add(Input(shape=(shape[0], shape[1], shape[2])))\n",
    "#         #model.add(Lambda(lambda x: expand_dims(x, axis=-1)))\n",
    "#         model.add(Conv2D(filters=64, kernel_size=3, padding=\"same\"))\n",
    "#         model.add(Activation(\"relu\"))\n",
    "#         model.add(Conv2D(filters=64, kernel_size=3, padding=\"same\"))\n",
    "#         model.add(Activation(\"relu\"))\n",
    "#         model.add(MaxPooling2D())\n",
    "#         model.add(Conv2D(filters=128, kernel_size=3, padding=\"same\"))\n",
    "#         model.add(Activation(\"relu\"))\n",
    "#         model.add(Conv2D(filters=128, kernel_size=3, padding=\"same\"))\n",
    "#         model.add(Activation(\"relu\"))\n",
    "#         model.add(MaxPooling2D())\n",
    "#         model.add(Activation(\"relu\"))\n",
    "#         model.add(Conv2D(filters=256, kernel_size=3, padding=\"same\"))\n",
    "#         model.add(Activation(\"relu\"))\n",
    "#         model.add(Conv2D(filters=256, kernel_size=3, padding=\"same\"))\n",
    "#         model.add(Activation(\"relu\"))\n",
    "#         model.add(MaxPooling2D())\n",
    "#         model.add(Activation(\"relu\"))\n",
    "#         model.add(Conv2D(filters=512, kernel_size=3, padding=\"same\"))\n",
    "#         model.add(Activation(\"relu\"))\n",
    "#         model.add(Conv2D(filters=512, kernel_size=3, padding=\"same\"))\n",
    "#         model.add(Activation(\"relu\"))\n",
    "#         model.add(MaxPooling2D())\n",
    "#         model.add(Flatten())\n",
    "#         model.add(Dense(32))\n",
    "#         model.add(Dense(classes))\n",
    "#         model.add(Activation(\"softmax\"))\n",
    "#         return model"
   ]
  },
  {
   "cell_type": "code",
   "execution_count": null,
   "metadata": {
    "colab": {
     "base_uri": "https://localhost:8080/",
     "height": 754
    },
    "id": "g1n4vn_SOceB",
    "outputId": "3d75b74a-4f88-4150-9f7b-a28bcd6dc93b"
   },
   "outputs": [
    {
     "data": {
      "image/png": "[encoded data removed]",
      "text/plain": [
       "<IPython.core.display.Image object>"
      ]
     },
     "execution_count": 41,
     "metadata": {},
     "output_type": "execute_result"
    }
   ],
   "source": [
    "# model = SimpleMLP()\n",
    "tf.keras.utils.plot_model(global_model, to_file='model.png', show_shapes=True, show_layer_names=True)"
   ]
  },
  {
   "cell_type": "code",
   "execution_count": null,
   "metadata": {
    "colab": {
     "base_uri": "https://localhost:8080/"
    },
    "id": "XUKwNXmcnCAt",
    "outputId": "cffad27e-afca-46d1-bd3c-21224fc269bd"
   },
   "outputs": [
    {
     "name": "stdout",
     "output_type": "stream",
     "text": [
      "[INFO] processed 10000/42000\n",
      "[INFO] processed 20000/42000\n",
      "[INFO] processed 30000/42000\n",
      "[INFO] processed 40000/42000\n"
     ]
    }
   ],
   "source": [
    "#declare path to your mnist data folder\n",
    "img_path = 'trainingSet/trainingSet'\n",
    "\n",
    "#get the path list using the path object\n",
    "image_paths = list(paths.list_images(img_path))\n",
    "\n",
    "#apply our function\n",
    "image_list, label_list = load(image_paths, verbose=10000)\n",
    "\n",
    "#binarize the labels\n",
    "lb = LabelBinarizer()\n",
    "label_list = lb.fit_transform(label_list)"
   ]
  },
  {
   "cell_type": "code",
   "execution_count": null,
   "metadata": {
    "id": "2OhrSQFinLlv"
   },
   "outputs": [],
   "source": [
    "#split data into training and test set\n",
    "X_train, X_test, y_train, y_test = train_test_split(image_list, \n",
    "                                                    label_list, \n",
    "                                                    test_size=0.1, \n",
    "                                                    random_state=42)"
   ]
  },
  {
   "cell_type": "code",
   "execution_count": null,
   "metadata": {
    "colab": {
     "base_uri": "https://localhost:8080/"
    },
    "id": "Pprov7uSnN7d",
    "outputId": "36cd91c6-8cde-4588-f985-87189193ac2b"
   },
   "outputs": [
    {
     "data": {
      "text/plain": [
       "(37800, 4200, 37800, 4200)"
      ]
     },
     "execution_count": 22,
     "metadata": {},
     "output_type": "execute_result"
    }
   ],
   "source": [
    "len(X_train), len(X_test), len(y_train), len(y_test)"
   ]
  },
  {
   "cell_type": "code",
   "execution_count": null,
   "metadata": {
    "id": "Kd2DYEC8nPQ-"
   },
   "outputs": [],
   "source": [
    "#create clients\n",
    "clients = create_clients(X_train, y_train, num_clients=10, initial='client')"
   ]
  },
  {
   "cell_type": "code",
   "execution_count": null,
   "metadata": {
    "id": "npvxN4VNnQye"
   },
   "outputs": [],
   "source": [
    "#process and batch the training data for each client\n",
    "clients_batched = dict()\n",
    "for (client_name, data) in clients.items():\n",
    "    clients_batched[client_name] = batch_data(data)\n",
    "    \n",
    "#process and batch the test set  \n",
    "test_batched = tf.data.Dataset.from_tensor_slices((X_test, y_test)).batch(len(y_test))"
   ]
  },
  {
   "cell_type": "code",
   "execution_count": null,
   "metadata": {
    "colab": {
     "base_uri": "https://localhost:8080/"
    },
    "id": "VDNDj7VanSiZ",
    "outputId": "a8db6f86-3a9b-4399-8e42-3319f4c76215"
   },
   "outputs": [
    {
     "name": "stderr",
     "output_type": "stream",
     "text": [
      "/usr/local/lib/python3.7/dist-packages/keras/optimizer_v2/gradient_descent.py:102: UserWarning: The `lr` argument is deprecated, use `learning_rate` instead.\n",
      "  super(SGD, self).__init__(name, **kwargs)\n"
     ]
    }
   ],
   "source": [
    "lr = 0.01\n",
    "comms_round = 20\n",
    "loss='categorical_crossentropy'\n",
    "metrics = ['accuracy']\n",
    "optimizer = SGD(lr=lr, \n",
    "                decay=lr / comms_round, \n",
    "                momentum=0.9\n",
    "               )          "
   ]
  },
  {
   "cell_type": "code",
   "execution_count": null,
   "metadata": {
    "id": "OuYT3Q9FnT26"
   },
   "outputs": [],
   "source": [
    "#initialize global model\n",
    "\n",
    "build_shape = 784 #(28, 28, 3)  # 1024 <- CIFAR-10    # 784 # for MNIST\n",
    "\n",
    "smlp_global = SimpleMLP()\n",
    "global_model = smlp_global.build(build_shape, 10) \n",
    "global_acc_list = []\n",
    "global_loss_list = []"
   ]
  },
  {
   "cell_type": "code",
   "execution_count": null,
   "metadata": {
    "colab": {
     "base_uri": "https://localhost:8080/"
    },
    "id": "HYhIrJmynV4v",
    "outputId": "03beb92d-129e-4844-9ed3-40531be10cdc"
   },
   "outputs": [
    {
     "name": "stdout",
     "output_type": "stream",
     "text": [
      "comm_round: 0 | global_acc: 41.071% | global_loss: 2.2585582733154297\n",
      "comm_round: 1 | global_acc: 50.262% | global_loss: 2.2031443119049072\n",
      "comm_round: 2 | global_acc: 57.143% | global_loss: 2.142970085144043\n",
      "comm_round: 3 | global_acc: 61.976% | global_loss: 2.089998245239258\n",
      "comm_round: 4 | global_acc: 65.167% | global_loss: 2.0482840538024902\n",
      "comm_round: 5 | global_acc: 66.452% | global_loss: 2.012636184692383\n",
      "comm_round: 6 | global_acc: 68.119% | global_loss: 1.984912633895874\n",
      "comm_round: 7 | global_acc: 69.524% | global_loss: 1.962205410003662\n",
      "comm_round: 8 | global_acc: 71.095% | global_loss: 1.942123532295227\n",
      "comm_round: 9 | global_acc: 72.571% | global_loss: 1.9244935512542725\n",
      "comm_round: 10 | global_acc: 73.524% | global_loss: 1.908677101135254\n",
      "comm_round: 11 | global_acc: 74.500% | global_loss: 1.8962006568908691\n",
      "comm_round: 12 | global_acc: 75.167% | global_loss: 1.8842144012451172\n",
      "comm_round: 13 | global_acc: 76.500% | global_loss: 1.8738600015640259\n",
      "comm_round: 14 | global_acc: 76.619% | global_loss: 1.8643903732299805\n",
      "comm_round: 15 | global_acc: 77.143% | global_loss: 1.855697751045227\n",
      "comm_round: 16 | global_acc: 77.976% | global_loss: 1.8481093645095825\n",
      "comm_round: 17 | global_acc: 78.381% | global_loss: 1.8405101299285889\n",
      "comm_round: 18 | global_acc: 78.857% | global_loss: 1.834467887878418\n",
      "comm_round: 19 | global_acc: 79.238% | global_loss: 1.8284481763839722\n"
     ]
    }
   ],
   "source": [
    "#commence global training loop\n",
    "for comm_round in range(comms_round):\n",
    "            \n",
    "    # get the global model's weights - will serve as the initial weights for all local models\n",
    "    global_weights = global_model.get_weights()\n",
    "    \n",
    "    #initial list to collect local model weights after scalling\n",
    "    scaled_local_weight_list = list()\n",
    "\n",
    "    #randomize client data - using keys\n",
    "    all_client_names = list(clients_batched.keys())\n",
    "           \n",
    "    client_names = random.sample(all_client_names, k=10)\n",
    "    # print(client_names, len(client_names))\n",
    "    random.shuffle(client_names)\n",
    "    \n",
    "#     if debug: \n",
    "#         # print('all_client_names', all_client_names)\n",
    "#         print('client_names', client_names, len(client_names))\n",
    "                \n",
    "    \n",
    "    #loop through each client and create new local model\n",
    "    for client in client_names:\n",
    "        smlp_local = SimpleMLP()\n",
    "        local_model = smlp_local.build(build_shape, 10)\n",
    "        local_model.compile(loss=loss, \n",
    "                      optimizer=optimizer, \n",
    "                      metrics=metrics)\n",
    "        \n",
    "        #set local model weight to the weight of the global model\n",
    "        local_model.set_weights(global_weights)\n",
    "        \n",
    "        #fit local model with client's data\n",
    "        local_model.fit(clients_batched[client], epochs=1, verbose=0)\n",
    "        \n",
    "        #scale the model weights and add to list\n",
    "        scaling_factor = 0.1 # weight_scalling_factor(clients_batched, client)\n",
    "        # print('scaling_factor', scaling_factor)\n",
    "        scaled_weights = scale_model_weights(local_model.get_weights(), scaling_factor)\n",
    "        scaled_local_weight_list.append(scaled_weights)\n",
    "        \n",
    "        #clear session to free memory after each communication round\n",
    "        K.clear_session()\n",
    "        \n",
    "    #to get the average over all the local model, we simply take the sum of the scaled weights\n",
    "    average_weights = sum_scaled_weights(scaled_local_weight_list)\n",
    "    \n",
    "    #update global model \n",
    "    global_model.set_weights(average_weights)\n",
    "\n",
    "    #test global model and print out metrics after each communications round\n",
    "    for(X_test, Y_test) in test_batched:\n",
    "        global_acc, global_loss = test_model(X_test, Y_test, global_model, comm_round)\n",
    "        global_acc_list.append(global_acc)\n",
    "        global_loss_list.append(global_loss)"
   ]
  },
  {
   "cell_type": "code",
   "execution_count": null,
   "metadata": {
    "colab": {
     "base_uri": "https://localhost:8080/",
     "height": 282
    },
    "id": "yd369giHnXbt",
    "outputId": "b1c175e4-1e8c-469b-f8cb-b7f87773d9ec"
   },
   "outputs": [
    {
     "name": "stdout",
     "output_type": "stream",
     "text": [
      "IID | total comm rounds 20\n"
     ]
    },
    {
     "data": {
      "image/png": "[encoded data removed]",
      "text/plain": [
       "<Figure size 1152x288 with 2 Axes>"
      ]
     },
     "metadata": {
      "needs_background": "light"
     },
     "output_type": "display_data"
    }
   ],
   "source": [
    "# IID \n",
    "import matplotlib.pyplot as plt\n",
    "plt.figure(figsize=(16,4))\n",
    "plt.subplot(121)\n",
    "plt.plot(list(range(0,len(global_loss_list))), global_loss_list)\n",
    "plt.subplot(122)\n",
    "plt.plot(list(range(0,len(global_acc_list))), global_acc_list)\n",
    "print('IID | total comm rounds', len(global_acc_list))"
   ]
  },
  {
   "cell_type": "code",
   "execution_count": null,
   "metadata": {
    "id": "S1A2V86EnZBu"
   },
   "outputs": [],
   "source": [
    "iid_df = pd.DataFrame(list(zip(global_acc_list, global_loss_list)), columns =['global_acc_list', 'global_loss_list'])\n",
    "iid_df.to_csv('MNIST_IID.csv',index=False)"
   ]
  },
  {
   "cell_type": "code",
   "execution_count": null,
   "metadata": {
    "id": "4SLC7ZjfUX7Z"
   },
   "outputs": [],
   "source": []
  },
  {
   "cell_type": "markdown",
   "metadata": {
    "id": "pZWJDdOcnal9"
   },
   "source": [
    "### Non - IID"
   ]
  },
  {
   "cell_type": "code",
   "execution_count": null,
   "metadata": {
    "id": "hjBO7lRnnlW4"
   },
   "outputs": [],
   "source": [
    "def create_clients(image_list, label_list, num_clients=100, initial='clients'):\n",
    "    ''' return: a dictionary with keys clients' names and value as \n",
    "                data shards - tuple of images and label lists.\n",
    "        args: \n",
    "            image_list: a list of numpy arrays of training images\n",
    "            label_list:a list of binarized labels for each image\n",
    "            num_client: number of fedrated members (clients)\n",
    "            initials: the clients'name prefix, e.g, clients_1 \n",
    "            \n",
    "    '''\n",
    "\n",
    "    #create a list of client names\n",
    "    client_names = ['{}_{}'.format(initial, i+1) for i in range(num_clients)]\n",
    "\n",
    "    #randomize the data\n",
    "    # data = list(zip(image_list, label_list))\n",
    "    # random.shuffle(data)  # <- IID\n",
    "    \n",
    "    # sort data for non-iid\n",
    "    max_y = np.argmax(label_list, axis=-1)\n",
    "    sorted_zip = sorted(zip(max_y, label_list, image_list), key=lambda x: x[0])\n",
    "    data = [(x,y) for _,y,x in sorted_zip]\n",
    "\n",
    "    #shard data and place at each client\n",
    "    size = len(data)//num_clients\n",
    "    shards = [data[i:i + size] for i in range(0, size*num_clients, size)]\n",
    "\n",
    "    #number of clients must equal number of shards\n",
    "    assert(len(shards) == len(client_names))\n",
    "\n",
    "    return {client_names[i] : shards[i] for i in range(len(client_names))} "
   ]
  },
  {
   "cell_type": "code",
   "execution_count": null,
   "metadata": {
    "colab": {
     "base_uri": "https://localhost:8080/"
    },
    "id": "yEAHLfSBnm88",
    "outputId": "e04da8ec-0fa7-443c-8e3d-13c31bd7b4b9"
   },
   "outputs": [
    {
     "data": {
      "text/plain": [
       "(37800, 4200, 37800, 4200)"
      ]
     },
     "execution_count": 31,
     "metadata": {},
     "output_type": "execute_result"
    }
   ],
   "source": [
    "len(X_train), len(X_test), len(y_train), len(y_test)"
   ]
  },
  {
   "cell_type": "code",
   "execution_count": null,
   "metadata": {
    "id": "xNORXfd2noU6"
   },
   "outputs": [],
   "source": [
    "#create clients\n",
    "clients = create_clients(X_train, y_train, num_clients=100, initial='client')"
   ]
  },
  {
   "cell_type": "code",
   "execution_count": null,
   "metadata": {
    "id": "zF6lKI-Vnp4Y"
   },
   "outputs": [],
   "source": [
    "#process and batch the training data for each client\n",
    "clients_batched = dict()\n",
    "for (client_name, data) in clients.items():\n",
    "    clients_batched[client_name] = batch_data(data)\n",
    "    \n",
    "#process and batch the test set  \n",
    "test_batched = tf.data.Dataset.from_tensor_slices((X_test, y_test)).batch(len(y_test))"
   ]
  },
  {
   "cell_type": "code",
   "execution_count": null,
   "metadata": {
    "colab": {
     "base_uri": "https://localhost:8080/"
    },
    "id": "Ajxjk4utnq5E",
    "outputId": "acbace4b-d768-4b97-8d7a-ac17cc56cda3"
   },
   "outputs": [
    {
     "name": "stderr",
     "output_type": "stream",
     "text": [
      "/usr/local/lib/python3.7/dist-packages/keras/optimizer_v2/gradient_descent.py:102: UserWarning: The `lr` argument is deprecated, use `learning_rate` instead.\n",
      "  super(SGD, self).__init__(name, **kwargs)\n"
     ]
    }
   ],
   "source": [
    "lr = 0.01 \n",
    "comms_round = 20\n",
    "loss='categorical_crossentropy'\n",
    "metrics = ['accuracy']\n",
    "optimizer = SGD(lr=lr, \n",
    "                decay=lr / comms_round, \n",
    "                momentum=0.9\n",
    "               )          "
   ]
  },
  {
   "cell_type": "code",
   "execution_count": null,
   "metadata": {
    "id": "OXVAPZGrnsEq"
   },
   "outputs": [],
   "source": [
    "#initialize global model\n",
    "\n",
    "build_shape = 784 #(32, 32, 3)  # 1024 <- CIFAR-10    # 784 # for MNIST\n",
    "\n",
    "smlp_global = SimpleMLP()\n",
    "global_model = smlp_global.build(build_shape, 10) \n",
    "global_acc_list = []\n",
    "global_loss_list = []"
   ]
  },
  {
   "cell_type": "code",
   "execution_count": null,
   "metadata": {
    "colab": {
     "base_uri": "https://localhost:8080/"
    },
    "id": "umduUHu4ntQm",
    "outputId": "519041d6-50e8-4157-e5e2-864e4f357cfa"
   },
   "outputs": [
    {
     "name": "stdout",
     "output_type": "stream",
     "text": [
      "comm_round: 0 | global_acc: 11.810% | global_loss: 2.2920494079589844\n",
      "comm_round: 1 | global_acc: 22.381% | global_loss: 2.255349636077881\n",
      "comm_round: 2 | global_acc: 8.595% | global_loss: 2.297943115234375\n",
      "comm_round: 3 | global_acc: 22.167% | global_loss: 2.2343640327453613\n",
      "comm_round: 4 | global_acc: 21.690% | global_loss: 2.2224576473236084\n",
      "comm_round: 5 | global_acc: 31.167% | global_loss: 2.206035614013672\n",
      "comm_round: 6 | global_acc: 40.786% | global_loss: 2.171427011489868\n",
      "comm_round: 7 | global_acc: 31.833% | global_loss: 2.174037456512451\n",
      "comm_round: 8 | global_acc: 44.262% | global_loss: 2.1426572799682617\n",
      "comm_round: 9 | global_acc: 36.762% | global_loss: 2.1348814964294434\n",
      "comm_round: 10 | global_acc: 46.667% | global_loss: 2.105984926223755\n",
      "comm_round: 11 | global_acc: 53.429% | global_loss: 2.057070732116699\n",
      "comm_round: 12 | global_acc: 51.262% | global_loss: 2.0491318702697754\n",
      "comm_round: 13 | global_acc: 58.095% | global_loss: 2.0158350467681885\n",
      "comm_round: 14 | global_acc: 36.714% | global_loss: 2.08266544342041\n",
      "comm_round: 15 | global_acc: 61.238% | global_loss: 2.033040761947632\n",
      "comm_round: 16 | global_acc: 49.357% | global_loss: 2.0342416763305664\n",
      "comm_round: 17 | global_acc: 42.500% | global_loss: 2.0640811920166016\n",
      "comm_round: 18 | global_acc: 61.833% | global_loss: 2.000275135040283\n",
      "comm_round: 19 | global_acc: 60.643% | global_loss: 1.94077467918396\n"
     ]
    }
   ],
   "source": [
    "#commence global training loop\n",
    "for comm_round in range(comms_round):\n",
    "            \n",
    "    # get the global model's weights - will serve as the initial weights for all local models\n",
    "    global_weights = global_model.get_weights()\n",
    "    \n",
    "    #initial list to collect local model weights after scalling\n",
    "    scaled_local_weight_list = list()\n",
    "\n",
    "    #randomize client data - using keys\n",
    "    all_client_names = list(clients_batched.keys())\n",
    "           \n",
    "    client_names = random.sample(all_client_names, k=10)\n",
    "    random.shuffle(client_names)\n",
    "    if debug: \n",
    "        # print('all_client_names', all_client_names)\n",
    "        print('client_names', client_names)\n",
    "    \n",
    "    #loop through each client and create new local model\n",
    "    for client in client_names:\n",
    "        smlp_local = SimpleMLP()\n",
    "        local_model = smlp_local.build(build_shape, 10)\n",
    "        local_model.compile(loss=loss, \n",
    "                      optimizer=optimizer, \n",
    "                      metrics=metrics)\n",
    "        \n",
    "        #set local model weight to the weight of the global model\n",
    "        local_model.set_weights(global_weights)\n",
    "        \n",
    "        #fit local model with client's data\n",
    "        local_model.fit(clients_batched[client], epochs=1, verbose=0)\n",
    "        \n",
    "        #scale the model weights and add to list\n",
    "        scaling_factor = 0.1 # weight_scalling_factor(clients_batched, client)\n",
    "        scaled_weights = scale_model_weights(local_model.get_weights(), scaling_factor)\n",
    "        scaled_local_weight_list.append(scaled_weights)\n",
    "        \n",
    "        #clear session to free memory after each communication round\n",
    "        K.clear_session()\n",
    "        \n",
    "    #to get the average over all the local model, we simply take the sum of the scaled weights\n",
    "    average_weights = sum_scaled_weights(scaled_local_weight_list)\n",
    "    \n",
    "    #update global model \n",
    "    global_model.set_weights(average_weights)\n",
    "\n",
    "    #test global model and print out metrics after each communications round\n",
    "    for(X_test, Y_test) in test_batched:\n",
    "        global_acc, global_loss = test_model(X_test, Y_test, global_model, comm_round)\n",
    "        global_acc_list.append(global_acc)\n",
    "        global_loss_list.append(global_loss)"
   ]
  },
  {
   "cell_type": "code",
   "execution_count": null,
   "metadata": {
    "colab": {
     "base_uri": "https://localhost:8080/",
     "height": 282
    },
    "id": "BG09E2SvnulF",
    "outputId": "c89ecfeb-3109-48bc-a27a-214971409744"
   },
   "outputs": [
    {
     "name": "stdout",
     "output_type": "stream",
     "text": [
      "Non-IID | total comm rounds 20\n"
     ]
    },
    {
     "data": {
      "image/png": "[encoded data removed]",
      "text/plain": [
       "<Figure size 1152x288 with 2 Axes>"
      ]
     },
     "metadata": {
      "needs_background": "light"
     },
     "output_type": "display_data"
    }
   ],
   "source": [
    "# Non-IID \n",
    "import matplotlib.pyplot as plt\n",
    "plt.figure(figsize=(16,4))\n",
    "plt.subplot(121)\n",
    "plt.plot(list(range(0,len(global_loss_list))), global_loss_list)\n",
    "plt.subplot(122)\n",
    "plt.plot(list(range(0,len(global_acc_list))), global_acc_list)\n",
    "print('Non-IID | total comm rounds', len(global_acc_list))           "
   ]
  },
  {
   "cell_type": "code",
   "execution_count": null,
   "metadata": {
    "id": "qV9D5o6snv21"
   },
   "outputs": [],
   "source": [
    "noniid_df = pd.DataFrame(list(zip(global_acc_list, global_loss_list)), columns =['global_acc_list', 'global_loss_list'])\n",
    "noniid_df.to_csv('MNIST_Non-IID.csv',index=False)"
   ]
  },
  {
   "cell_type": "code",
   "execution_count": null,
   "metadata": {
    "id": "fPBKsXWBrgZz"
   },
   "outputs": [],
   "source": []
  }
 ],
 "metadata": {
  "colab": {
   "name": "FL_MNIST2.ipynb",
   "provenance": []
  },
  "kernelspec": {
   "display_name": "Python 3",
   "language": "python",
   "name": "python3"
  },
  "language_info": {
   "codemirror_mode": {
    "name": "ipython",
    "version": 3
   },
   "file_extension": ".py",
   "mimetype": "text/x-python",
   "name": "python",
   "nbconvert_exporter": "python",
   "pygments_lexer": "ipython3",
   "version": "3.8.3"
  }
 },
 "nbformat": 4,
 "nbformat_minor": 1
}
